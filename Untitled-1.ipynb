{
 "cells": [
  {
   "cell_type": "code",
   "execution_count": 10,
   "metadata": {},
   "outputs": [],
   "source": [
    "import swisseph as swe\n",
    "from geopy.geocoders import Nominatim\n",
    "from timezonefinder import TimezoneFinder\n",
    "from datetime import datetime\n",
    "import pytz\n"
   ]
  },
  {
   "cell_type": "code",
   "execution_count": 11,
   "metadata": {},
   "outputs": [],
   "source": [
    "# !python -m pip install pyswisseph\n",
    "# !python -m pip install geopy\n",
    "# !python -m pip install timezonefinder\n",
    "# !python -m pip install pytz"
   ]
  },
  {
   "cell_type": "code",
   "execution_count": 16,
   "metadata": {},
   "outputs": [
    {
     "name": "stdout",
     "output_type": "stream",
     "text": [
      "\n",
      "Birth Chart for Delhi, India on 1994-08-09 at 13:22 (Local Time)\n",
      "==================================================\n",
      "Sun: 136.51° Leo\n",
      "Moon: 161.69° Virgo\n",
      "Mercury: 132.45° Leo\n",
      "Venus: 181.81° Libra\n",
      "Mars: 85.07° Gemini\n",
      "Jupiter: 216.86° Scorpio\n",
      "Saturn: 340.71° Pisces\n",
      "Uranus: 293.47° Capricorn\n",
      "Neptune: 291.30° Capricorn\n",
      "Pluto: 235.28° Scorpio\n",
      "Ascendant: 234.37° Scorpio (Rising)\n"
     ]
    }
   ],
   "source": [
    "\n",
    "# Constants\n",
    "PLANETS = {\n",
    "    swe.SUN: \"Sun\",\n",
    "    swe.MOON: \"Moon\",\n",
    "    swe.MERCURY: \"Mercury\",\n",
    "    swe.VENUS: \"Venus\",\n",
    "    swe.MARS: \"Mars\",\n",
    "    swe.JUPITER: \"Jupiter\",\n",
    "    swe.SATURN: \"Saturn\",\n",
    "    swe.URANUS: \"Uranus\",\n",
    "    swe.NEPTUNE: \"Neptune\",\n",
    "    swe.PLUTO: \"Pluto\"\n",
    "}\n",
    "\n",
    "ZODIAC_SIGNS = [\n",
    "    \"Aries\", \"Taurus\", \"Gemini\", \"Cancer\", \"Leo\", \"Virgo\",\n",
    "    \"Libra\", \"Scorpio\", \"Sagittarius\", \"Capricorn\", \"Aquarius\", \"Pisces\"\n",
    "]\n",
    "\n",
    "# Function to get latitude and longitude of a place\n",
    "def get_lat_lon(place):\n",
    "    geolocator = Nominatim(user_agent=\"astro_chart\")\n",
    "    location = geolocator.geocode(place)\n",
    "    if location:\n",
    "        return location.latitude, location.longitude\n",
    "    return None, None\n",
    "\n",
    "# Function to get timezone of a place\n",
    "def get_timezone(lat, lon):\n",
    "    tf = TimezoneFinder()\n",
    "    return tf.timezone_at(lng=lon, lat=lat)\n",
    "\n",
    "# Function to convert planetary positions into zodiac signs\n",
    "def get_zodiac(degree):\n",
    "    return ZODIAC_SIGNS[int(degree / 30)]\n",
    "\n",
    "# Function to calculate planetary positions\n",
    "def get_planet_positions(julian_day):\n",
    "    positions = {}\n",
    "    for planet, name in PLANETS.items():\n",
    "        result, ret_flag = swe.calc_ut(julian_day, planet)  # Extract tuple\n",
    "        longitude = result[0]  # Extract only longitude as a float\n",
    "        sign = get_zodiac(longitude)  # Convert to zodiac sign\n",
    "        positions[name] = f\"{longitude:.2f}° {sign}\"\n",
    "    return positions\n",
    "\n",
    "\n",
    "\n",
    "# Function to calculate the Ascendant (rising sign)\n",
    "def get_ascendant(julian_day, lat, lon):\n",
    "    houses = swe.houses(julian_day, lat, lon, b'A')\n",
    "    ascendant = houses[0][0]  # The first house cusp (Ascendant)\n",
    "    return f\"{ascendant:.2f}° {get_zodiac(ascendant)} (Rising)\"\n",
    "\n",
    "# Main function to generate birth chart\n",
    "def generate_birth_chart(date, time, place):\n",
    "    lat, lon = get_lat_lon(place)\n",
    "    if lat is None or lon is None:\n",
    "        return \"Invalid location. Please try again.\"\n",
    "\n",
    "    timezone_str = get_timezone(lat, lon)\n",
    "    if not timezone_str:\n",
    "        return \"Could not determine timezone.\"\n",
    "\n",
    "    # Convert to UTC\n",
    "    local_dt = datetime.strptime(f\"{date} {time}\", \"%Y-%m-%d %H:%M\")\n",
    "    local_tz = pytz.timezone(timezone_str)\n",
    "    utc_dt = local_tz.localize(local_dt).astimezone(pytz.utc)\n",
    "    \n",
    "    # Convert to Julian Day\n",
    "    julian_day = swe.julday(utc_dt.year, utc_dt.month, utc_dt.day,\n",
    "                            utc_dt.hour + utc_dt.minute / 60.0)\n",
    "    \n",
    "    # Get planetary positions\n",
    "    planet_positions = get_planet_positions(julian_day)\n",
    "    \n",
    "    # Get Ascendant (Rising Sign)\n",
    "    ascendant = get_ascendant(julian_day, lat, lon)\n",
    "    \n",
    "    # Print birth chart\n",
    "    print(f\"\\nBirth Chart for {place} on {date} at {time} (Local Time)\")\n",
    "    print(\"=\" * 50)\n",
    "    for planet, position in planet_positions.items():\n",
    "        print(f\"{planet}: {position}\")\n",
    "    print(f\"Ascendant: {ascendant}\")\n",
    "    \n",
    "# Example Usage\n",
    "generate_birth_chart(\"1994-08-09\", \"13:22\", \"Delhi, India\")\n"
   ]
  },
  {
   "cell_type": "code",
   "execution_count": 2,
   "metadata": {},
   "outputs": [
    {
     "name": "stdout",
     "output_type": "stream",
     "text": [
      "Collecting swisseph\n",
      "  Downloading swisseph-0.0.0.dev1.tar.gz (850 bytes)\n",
      "  Preparing metadata (setup.py): started\n",
      "  Preparing metadata (setup.py): finished with status 'done'\n",
      "Building wheels for collected packages: swisseph\n",
      "  Building wheel for swisseph (setup.py): started\n",
      "  Building wheel for swisseph (setup.py): finished with status 'done'\n",
      "  Created wheel for swisseph: filename=swisseph-0.0.0.dev1-py3-none-any.whl size=1108 sha256=06b07561c569718c89c7a16c50f6450c064bb7c4ee17f16b390287a50b709d3b\n",
      "  Stored in directory: c:\\users\\krishna\\appdata\\local\\pip\\cache\\wheels\\8f\\df\\a8\\2837d87513faeea0caac9a6e673d201fccad34de63ef8ad4a9\n",
      "Successfully built swisseph\n",
      "Installing collected packages: swisseph\n",
      "Successfully installed swisseph-0.0.0.dev1\n"
     ]
    },
    {
     "name": "stderr",
     "output_type": "stream",
     "text": [
      "\n",
      "[notice] A new release of pip is available: 24.3.1 -> 25.0.1\n",
      "[notice] To update, run: G:\\Workspace\\AstroAshok\\venv\\Scripts\\python.exe -m pip install --upgrade pip\n"
     ]
    }
   ],
   "source": [
    "!pip install swisseph"
   ]
  },
  {
   "cell_type": "code",
   "execution_count": null,
   "metadata": {},
   "outputs": [],
   "source": []
  }
 ],
 "metadata": {
  "kernelspec": {
   "display_name": "venv",
   "language": "python",
   "name": "python3"
  },
  "language_info": {
   "codemirror_mode": {
    "name": "ipython",
    "version": 3
   },
   "file_extension": ".py",
   "mimetype": "text/x-python",
   "name": "python",
   "nbconvert_exporter": "python",
   "pygments_lexer": "ipython3",
   "version": "3.9.21"
  }
 },
 "nbformat": 4,
 "nbformat_minor": 2
}
