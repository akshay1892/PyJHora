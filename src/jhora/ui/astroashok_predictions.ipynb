{
 "cells": [
  {
   "cell_type": "code",
   "execution_count": 1,
   "metadata": {},
   "outputs": [
    {
     "name": "stdout",
     "output_type": "stream",
     "text": [
      "c:\\Users\\Aditi Mathur\\Documents\\AI Workspace\\PyJHora\\src\n"
     ]
    }
   ],
   "source": [
    "import os\n",
    "import sys\n",
    "module_path = os.path.abspath(os.path.join('../../'))\n",
    "print(module_path)\n",
    "if module_path not in sys.path:\n",
    "    sys.path.append(module_path)"
   ]
  },
  {
   "cell_type": "code",
   "execution_count": null,
   "metadata": {},
   "outputs": [
    {
     "name": "stdout",
     "output_type": "stream",
     "text": [
      "c:\\Users\\Aditi Mathur\\Documents\\AI Workspace\\PyJHora added to system path ['C:\\\\Users\\\\Aditi Mathur\\\\.conda\\\\envs\\\\py310\\\\python310.zip', 'C:\\\\Users\\\\Aditi Mathur\\\\.conda\\\\envs\\\\py310\\\\DLLs', 'C:\\\\Users\\\\Aditi Mathur\\\\.conda\\\\envs\\\\py310\\\\lib', 'C:\\\\Users\\\\Aditi Mathur\\\\.conda\\\\envs\\\\py310', 'c:\\\\Users\\\\Aditi Mathur\\\\Documents\\\\AI Workspace\\\\PyJHora\\\\venv', '', 'c:\\\\Users\\\\Aditi Mathur\\\\Documents\\\\AI Workspace\\\\PyJHora\\\\venv\\\\lib\\\\site-packages', 'c:\\\\Users\\\\Aditi Mathur\\\\Documents\\\\AI Workspace\\\\PyJHora\\\\venv\\\\lib\\\\site-packages\\\\win32', 'c:\\\\Users\\\\Aditi Mathur\\\\Documents\\\\AI Workspace\\\\PyJHora\\\\venv\\\\lib\\\\site-packages\\\\win32\\\\lib', 'c:\\\\Users\\\\Aditi Mathur\\\\Documents\\\\AI Workspace\\\\PyJHora\\\\venv\\\\lib\\\\site-packages\\\\Pythonwin', 'c:\\\\Users\\\\Aditi Mathur\\\\Documents\\\\AI Workspace\\\\PyJHora\\\\src', 'c:\\\\Users\\\\Aditi Mathur\\\\Documents\\\\AI Workspace\\\\PyJHora']\n"
     ]
    }
   ],
   "source": [
    "from jhora import const, utils\n",
    "from jhora.panchanga import drik\n",
    "from jhora.horoscope.chart import  charts\n",
    "from jhora.horoscope.chart import house\n"
   ]
  },
  {
   "cell_type": "code",
   "execution_count": 3,
   "metadata": {},
   "outputs": [],
   "source": [
    "import json"
   ]
  },
  {
   "cell_type": "code",
   "execution_count": 4,
   "metadata": {},
   "outputs": [],
   "source": [
    "_lang_path = const._LANGUAGE_PATH"
   ]
  },
  {
   "cell_type": "code",
   "execution_count": 5,
   "metadata": {},
   "outputs": [],
   "source": [
    "def get_prediction_resources(language='en'):\n",
    "    \"\"\"\n",
    "        get resources from prediction_msgs_<lang>.txt\n",
    "        @param language: Two letter language code. en, hi, ka, ta, te\n",
    "        @return json strings from the resource file as dictionary \n",
    "    \"\"\"\n",
    "    json_file = _lang_path + const._DEFAULT_PREDICTION_JSON_FILE_PREFIX+language+'.json'\n",
    "    print('JSON_FILE_PATH', json_file)\n",
    "    f = open(json_file,\"r\",encoding=\"utf-8\")\n",
    "    msgs = json.load(f)\n",
    "    return msgs"
   ]
  },
  {
   "cell_type": "code",
   "execution_count": 6,
   "metadata": {},
   "outputs": [],
   "source": [
    "def _get_general_lagna_rasi_prediction(jd,place,prediction_msgs,language=const._DEFAULT_LANGUAGE):\n",
    "    janma_rasi = drik.raasi(jd, place)[0]-1\n",
    "    results = {}\n",
    "    source_count = 2\n",
    "    for s in range(source_count):\n",
    "        ks = utils.resource_strings['janma_rasi_str']+'_'+str(s+1)\n",
    "        results[ks] = \"<html><b>\"+utils.resource_strings['general_prediction_str']+\"</b><br>\"\n",
    "        #results[ks] += \"<b>\"+prediction_msgs['general_prediction_caution']+\"</b><br>\"\n",
    "        results[ks] += \"<b>\"+prediction_msgs['janma_raasi_'+str(s+1)]['source']+\"</b><br>\"\n",
    "        pdict = prediction_msgs['janma_raasi_'+str(s+1)][str(janma_rasi+1)]\n",
    "        for k,v in pdict.items():\n",
    "            results[ks] += \"<b>\"+k+\"</b><br>\"+v+\"<br>\"\n",
    "    return results"
   ]
  },
  {
   "cell_type": "code",
   "execution_count": 7,
   "metadata": {},
   "outputs": [],
   "source": [
    "PLANET_NAMES = \"\"\"Sun☉,Moon☾,Mars♂,Mercury☿,Jupiter♃,Venus♀,Saturn♄,Raagu☊,Kethu☋,Uranus⛢,Neptune♆,Pluto♇\"\"\".split(',')"
   ]
  },
  {
   "cell_type": "code",
   "execution_count": 8,
   "metadata": {},
   "outputs": [],
   "source": [
    "def _get_planets_in_houses_prediction(planet_positions,prediction_msgs):\n",
    "    p_to_h = utils.get_planet_house_dictionary_from_planet_positions(planet_positions)\n",
    "    lagna_house = p_to_h['L']\n",
    "    ks = utils.resource_strings['planets_str']\n",
    "    results = {}\n",
    "    results[ks] = \"<html>\"#<b>\"+ks+\"</b><br>\"\n",
    "    #results[ks] += \"<b>\"+utils.resource_strings['general_prediction_caution']+\"</b><br>\"\n",
    "    planet_msgs = prediction_msgs['planets_in_houses']\n",
    "    #print('planet msgs',planet_msgs)\n",
    "    for planet in [*range(9)]:\n",
    "        planet_house = house.get_relative_house_of_planet(lagna_house,p_to_h[planet])\n",
    "        pl_msg = planet_msgs[str(planet_house)][planet]\n",
    "        #print(planet,planet_house,pl_msg)\n",
    "        key = PLANET_NAMES[planet]+'-'+utils.resource_strings['house_str']+'#'+str(planet_house)+\":\"\n",
    "        results[ks] += \"<b>\"+key+\"</b><br>\"+pl_msg+\"<br>\"\n",
    "    return results\n",
    "def _get_lords_in_houses_prediction(planet_positions,prediction_msgs):\n",
    "    p_to_h = utils.get_planet_house_dictionary_from_planet_positions(planet_positions)\n",
    "    lagna_house = p_to_h['L']\n",
    "    ks = utils.resource_strings['houses_str']\n",
    "    results = {}\n",
    "    results[ks] = \"<html>\"#<b>\"+ks+\"</b><br>\"\n",
    "    #results[ks] += \"<b>\"+utils.resource_strings['general_prediction_caution']+\"</b><br>\"\n",
    "    planet_msgs = prediction_msgs['lord_of_a_house_joining_lord_of_another_house']\n",
    "    #print('planet msgs',planet_msgs)\n",
    "    for h in [*range(12)]:\n",
    "        lord = const._house_owners_list[(h+lagna_house)%12]\n",
    "        house_of_lord = house.get_relative_house_of_planet(lagna_house,p_to_h[lord])\n",
    "        key = \"Lord of House#\"+str(h+1)+\" in house#\"+str(house_of_lord)\n",
    "        #print('key',key)\n",
    "        pl_msg = planet_msgs[str(h+1)][house_of_lord-1]\n",
    "        results[ks] += \"<b>\"+key+\"</b><br>\"+pl_msg+\"<br>\"\n",
    "    return results"
   ]
  },
  {
   "cell_type": "code",
   "execution_count": 9,
   "metadata": {},
   "outputs": [],
   "source": [
    "@staticmethod\n",
    "def _get_location(place_name):\n",
    "    result = utils.get_location(place_name)\n",
    "    print('RESULT',result)\n",
    "    if result:\n",
    "        _place_name,_latitude,_longitude,_time_zone = result\n",
    "        # _place_text.setText(_place_name)\n",
    "        # _lat_text.setText(str(_latitude))\n",
    "        # _long_text.setText(str(_longitude))\n",
    "        # _tz_text.setText(str(_time_zone))\n",
    "        print(_place_name,_latitude,_longitude,_time_zone)\n",
    "        return _place_name,_latitude,_longitude,_time_zone\n",
    "    else:\n",
    "        msg = place_name+\" could not be found in OpenStreetMap.\\nTry entering latitude and longitude manually.\\nOr try entering nearest big city\"\n",
    "        print(msg)\n",
    "        return None\n",
    "        # QMessageBox.about(self,\"City not found\",msg)\n",
    "    #     _lat_text.setText('')\n",
    "    #     _long_text.setText('')\n",
    "    # _reset_place_text_size()"
   ]
  },
  {
   "cell_type": "code",
   "execution_count": 10,
   "metadata": {},
   "outputs": [],
   "source": [
    "def get_prediction_details(jd_at_dob,place,language=const._DEFAULT_LANGUAGE):\n",
    "    prediction_msgs = get_prediction_resources(language=language)\n",
    "    print('prediction keys',prediction_msgs.keys())\n",
    "    results = {}\n",
    "    planet_positions = charts.rasi_chart(jd_at_dob, place)\n",
    "    results1 = _get_general_lagna_rasi_prediction(jd_at_dob,place,prediction_msgs,language=language)\n",
    "    print('results1',results1)\n",
    "    results.update(results1)\n",
    "    results2 = _get_planets_in_houses_prediction(planet_positions,prediction_msgs)\n",
    "    results.update(results2)\n",
    "    results3 = _get_lords_in_houses_prediction(planet_positions,prediction_msgs)\n",
    "    results.update(results3)\n",
    "    return results"
   ]
  },
  {
   "cell_type": "code",
   "execution_count": 11,
   "metadata": {},
   "outputs": [],
   "source": [
    "def get_prediction_resources(language='en'):\n",
    "    \"\"\"\n",
    "        get resources from prediction_msgs_<lang>.txt\n",
    "        @param language: Two letter language code. en, hi, ka, ta, te\n",
    "        @return json strings from the resource file as dictionary \n",
    "    \"\"\"\n",
    "    json_file = _lang_path + const._DEFAULT_PREDICTION_JSON_FILE_PREFIX+language+'.json'\n",
    "    print('JSON_FILE_PATH', json_file)\n",
    "    f = open(json_file,\"r\",encoding=\"utf-8\")\n",
    "    msgs = json.load(f)\n",
    "    return msgs"
   ]
  },
  {
   "cell_type": "code",
   "execution_count": 12,
   "metadata": {},
   "outputs": [],
   "source": [
    "year=1992\n",
    "month=8\n",
    "day=1\n",
    "_tob_text=\"3:10:00\""
   ]
  },
  {
   "cell_type": "code",
   "execution_count": 13,
   "metadata": {},
   "outputs": [
    {
     "name": "stdout",
     "output_type": "stream",
     "text": [
      "*DOB (1992, 8, 1)\n",
      "*TOB (3, 10, 0)\n"
     ]
    }
   ],
   "source": [
    "birth_date = drik.Date(int(year),int(month),int(day))\n",
    "# user_age = min(datetime.now().year - birth_date.year, const.annual_maximum_age) + 1\n",
    "dob = (int(year),int(month),int(day))\n",
    "tob = tuple([int(x) for x in _tob_text.split(':')])\n",
    "print('*DOB', dob)\n",
    "print('*TOB', tob)\n"
   ]
  },
  {
   "cell_type": "code",
   "execution_count": 14,
   "metadata": {},
   "outputs": [
    {
     "name": "stdout",
     "output_type": "stream",
     "text": [
      "*Julian Day 2448835.6319444445\n"
     ]
    }
   ],
   "source": [
    "_birth_julian_day = utils.julian_day_number(dob, tob)\n",
    "print('*Julian Day', _birth_julian_day)\n"
   ]
  },
  {
   "cell_type": "code",
   "execution_count": 15,
   "metadata": {},
   "outputs": [
    {
     "name": "stdout",
     "output_type": "stream",
     "text": [
      "Jaipur, India in the database\n",
      "RESULT ['Jaipur, India', 26.9196, 75.7878, 5.5]\n",
      "Jaipur, India 26.9196 75.7878 5.5\n"
     ]
    }
   ],
   "source": [
    "_place_name,_latitude,_longitude,_time_zone= _get_location('Jaipur, India')"
   ]
  },
  {
   "cell_type": "code",
   "execution_count": 16,
   "metadata": {},
   "outputs": [
    {
     "name": "stdout",
     "output_type": "stream",
     "text": [
      "*Place Place(Place='Jaipur, India', latitude=26.9196, longitude=75.7878, timezone=5.5)\n"
     ]
    }
   ],
   "source": [
    "place = drik.Place(_place_name,_latitude,_longitude,_time_zone)\n",
    "print('*Place', place)\n",
    "        "
   ]
  },
  {
   "cell_type": "code",
   "execution_count": 17,
   "metadata": {},
   "outputs": [
    {
     "name": "stdout",
     "output_type": "stream",
     "text": [
      "JSON_FILE_PATH c:\\Users\\Aditi Mathur\\Documents\\AI Workspace\\PyJHora\\src\\jhora/lang/prediction_msgs_en.json\n",
      "prediction keys dict_keys(['general_prediction_caution', 'lord_of_a_house_joining_lord_of_another_house', 'janma_raasi_1', 'janma_raasi_2', 'planets_in_houses'])\n",
      "results1 {'Janma rasi_1': '<html><b>General Predictions</b><br><b>Source: How to judge a horoscope - BV. Raman</b><br><b>Mental Tendencies</b><br>People born in Leo are ambitious as well as avaricious, warm-hearted, and have a liking for art, literature and music. They are cheerful and unimpulsive.<br><b>Physical Tendencies</b><br>Persons born in this sign will be magnetic in appearance with broad shoulders, bilious constitution, of average height, oval faced, thoughtful countenance and the upper part of the body is generally better formed.<br><b>General Tendencies</b><br>They can adapt themselves to any condition in life. They have faith. In affection they are sincere. They stick to orthodox principles in religion but are perfectly tolerant. Generally good tempered, they are sensitive. They are lovers of music, literature and possess a certain amount of philosophical knowledge. They are voracious readers. In life they do not succeed as much as they would like to and often throughout they struggle very much. Their ambitions remain unfulfilled to a great extent. They lack a natural policy and hence get into many difficulties. They are forgiving and do not hold a grudge long. They are likely to suffer from nervous troubles and are generally misunderstood by their superiors and bosses.<br>', 'Janma rasi_2': \"<html><b>General Predictions</b><br><b>Source: ChinmayaAstrolger.com</b><br><b>Specific Characteristics</b><br>You will have a strong, careful, forcible and watchful nature. You are laborious and possess and austere uncontrollable character. Domestic infelicity may make you distrustful of others and you may get entangled in hazardous speculations. Your pride may border on to vain gloriousness which you may curtail by exercising your will-force. You are apt to assert your independence at opportune moments, and accrue benefits. You will have a fortunate and profitable nature, and kind humane disposition. You will have gains and legacies and success through marriage and partnership / collaboration. You will have warm sympathies and a dutiful family. You will have artistic faculty, plenty of confiance-en-soi and an inclination to form rather than colour. One of your off-springs could be source of pride and joy to your family. You have a strong, forceful nature and personality capable of desiring command. You are frank, open-minded and generous in disposition. You have an adventurous spirit, inclined to exploits and hazardous feats. You will gain through inheritance and acquire properties in a rather late age.<br><b>Mental Qualities</b><br>You will be ambitious, generous, faithful, fearless and proud. You will be rich in life and feeling, and will be openly opposed to cliques, secrecy and underhand actions. You have the broadness of the mind and will be oblivious to enmity.<br><b>Physical Attributes</b><br>According to your Horoscope, you will have stout physique with broad shoulders. You will be sunny cheerful disposition, will have fearless eyes of grey tint, wavy hair with receding hairline. You will walk upright and talk straight. On the whole, you will have a right royal disposition.<br><b>General State of Health</b><br>Your zodiacal sign rules over the shoulders, arms, hands, bronchial tubes, fingers, nervous system, etc. Your potential problems could be asthma, chest disorders, colds, flu, spondylitis, etc. Your shoulders/arms/hands/fingers, trachea, bronchial tubes, upper ribs and thymus are the trouble-spots which may need medical attention during some time of your life. Stress (if in Administrative job) can lead to blood-pressure related problems. Profession demanding lot of travelling can induce problems due to exposure and irregular food-habits. All you need is adequate rest and peaceful sleep, regular homely meals with a relaxed mind. Yoga could work wonders for you. You should take a lot of carrots, cauliflower, garlic and pomegranates.Since the Ascendant has no affliction in your chart, you will be in good health. Since Mercury afflicts the Moon in your chart, you may have some memory-related problems and excess of worries. Since Venus afflicts the Moon in your chart, you may suffer from general weakness and tiredness. Since Mars afflicts the Moon in your chart, you may suffer from blood-loss, ruptures and inflammatory swellings. Since Rahu afflicts the Moon in your chart, you are prone to suffer from colds and constipation. Since Ketu afflicts the Moon in your chart, you may have ruptures and may suffer from inflammatory diseases. Since Saturn afflicts the Sun in your chart, you may suffer from colds, contractions and obstructions; constipation and general weakness are possible too.Since Uranus afflicts the Sun in your chart, you may suffer from heart-diseases.Since Mars and Saturn both afflict the sign Aquarius in your chart, you may have affections in the regions of buttocks or shank portions.Since Mars and Saturn both afflict the sign Virgo in your chart, your waist region is prone to affections.<br><b>Education and Profession</b><br>Favourable planetary combinations in your chart makes you blessed. You will have a sharp mind and keen intellect. You will have success in any educational field of your choice. You will have excellent education with some distinct specialization in a field. You will also have informal studies covering a very wide range of interesting subjects. People will treat you with respect for your wisdom and consider you to be a store-house of knowledge. You will do well in research-studies and may secure a doctorate degree. Your high education will lead you to success in the field of profession also. In your chart, Mercury gains good strength in Ashtaka-Varga. This will give you very good academic accomplishments with a good degree of proficiency in the various subjects of choice. The planetary combinations in your chart make you specially suited for the Technological fields. You will be very inquisitive not only about the principles but also with the working mechanisms involved. In addition to a basic degree in Science you may have a degree/ diploma in Technology. The planetary combinations in your chart bestow on you the qualities of a born businessman. You will be quick to learn the aspects of trade and commerce. You will make a fortune by trading and/ or manufacturing activities. As usual in business you may have to pass through some slack patcheswhen you will need to exercise control although during the most part you will do brisk business.<br><b>Wealth and Inheritance</b><br>As regards family-wealth, you will have a prosperous, peaceful and secure position in life. You are very likely to have a gift of prophecy and a taste for divinatory arts. You will have success in artistic pursuits, love-affairs will keep you ever-fermenting. You will enjoy high patronage among ladies of substance. As regards domestic environments, lack of order and differences of opinion among family-members will keep you worried. In your chart the lord of earnings placed in the favourable 10th house is a fortunate position and offer many desirable attributes. You will become very distinguished for your firm determination and strength of will. But you must understand your capacity-limitations and never have a bite bigger than you can chew; otherwise there will hang on the possibility of having a sharp downfall. You will occupy a high position and be a decision maker; you will have great progress in your life. In your chart the lord of inheritance being placed in the 10th house is not a fortunate position since it can create obstacles by making you a victim of slander or disrepute. The position favours you with a good placement in the Government service or you will receive benefits from Defence establishments as for your business you will have to remain in good terms with them. You will earn a fortune but you will have to pass through wide fluctuations.<br><b>Marriage and Married Life</b><br> Your chart indicates that you will have late marriage. In your chart your Ascendant-lord and the 7th-lord are in Opposition aspect which indicates that you two will differ from each other at times. By adopting a more compromising attitude you can ease the situations. You will however be very fond of each other for having a mutually loving and caring relationship.<br><b>Travel and Journeys</b><br> In your chart most of the planets are situated in 'fixed' signs which indicates that you will seldom require long-distance travelling. You will not require changing places in connection with your profession. In your chart most of the planets are in angular houses and moveable signs. You will have many journeys mainly in connection with profession. You will also have some pleasure-trips to places of interest.<br><b>Lucky Stone</b><br> Among auspicious gemstones RUBY (Manik or Chuni) will be favourable for you. You may take 3 to 5 Rattis of Ruby in a ring of Gold which should be worn on right hand ring finger on a Sunday. Cheaper substitute of Ruby is Surya-Kanta Mani or Lok Akeek which may be taken instead in a ring of Gold or Copper. While wearing the gemstone reciting the following 'Mantra' will be auspicious: Om Aasatyena Rajasaa Vartamano Niveshaayannamritam Mrityar cha Hiranyena Savita Rathenadevo Yati Bhuvana Vipashyat. The weights of gemstones recommended above are for adult male people. For adult females the weights should be reduced to 3/4 to 1/2 part while for the children the weights should be reduced to 1/2 to 1/3 part.<br>\"}\n"
     ]
    }
   ],
   "source": [
    "results = get_prediction_details(_birth_julian_day,place,language='en')"
   ]
  },
  {
   "cell_type": "code",
   "execution_count": 18,
   "metadata": {},
   "outputs": [
    {
     "data": {
      "text/plain": [
       "dict_keys(['Janma rasi_1', 'Janma rasi_2', 'Planets', 'Houses'])"
      ]
     },
     "execution_count": 18,
     "metadata": {},
     "output_type": "execute_result"
    }
   ],
   "source": [
    "results.keys()"
   ]
  },
  {
   "cell_type": "code",
   "execution_count": 19,
   "metadata": {},
   "outputs": [],
   "source": [
    "from IPython.display import display, HTML"
   ]
  },
  {
   "cell_type": "code",
   "execution_count": 20,
   "metadata": {},
   "outputs": [
    {
     "data": {
      "text/html": [
       "<html><b>General Predictions</b><br><b>Source: How to judge a horoscope - BV. Raman</b><br><b>Mental Tendencies</b><br>People born in Leo are ambitious as well as avaricious, warm-hearted, and have a liking for art, literature and music. They are cheerful and unimpulsive.<br><b>Physical Tendencies</b><br>Persons born in this sign will be magnetic in appearance with broad shoulders, bilious constitution, of average height, oval faced, thoughtful countenance and the upper part of the body is generally better formed.<br><b>General Tendencies</b><br>They can adapt themselves to any condition in life. They have faith. In affection they are sincere. They stick to orthodox principles in religion but are perfectly tolerant. Generally good tempered, they are sensitive. They are lovers of music, literature and possess a certain amount of philosophical knowledge. They are voracious readers. In life they do not succeed as much as they would like to and often throughout they struggle very much. Their ambitions remain unfulfilled to a great extent. They lack a natural policy and hence get into many difficulties. They are forgiving and do not hold a grudge long. They are likely to suffer from nervous troubles and are generally misunderstood by their superiors and bosses.<br>"
      ],
      "text/plain": [
       "<IPython.core.display.HTML object>"
      ]
     },
     "execution_count": 20,
     "metadata": {},
     "output_type": "execute_result"
    }
   ],
   "source": [
    "HTML(results['Janma rasi_1'])"
   ]
  },
  {
   "cell_type": "code",
   "execution_count": 21,
   "metadata": {},
   "outputs": [
    {
     "data": {
      "text/html": [
       "<html><b>General Predictions</b><br><b>Source: ChinmayaAstrolger.com</b><br><b>Specific Characteristics</b><br>You will have a strong, careful, forcible and watchful nature. You are laborious and possess and austere uncontrollable character. Domestic infelicity may make you distrustful of others and you may get entangled in hazardous speculations. Your pride may border on to vain gloriousness which you may curtail by exercising your will-force. You are apt to assert your independence at opportune moments, and accrue benefits. You will have a fortunate and profitable nature, and kind humane disposition. You will have gains and legacies and success through marriage and partnership / collaboration. You will have warm sympathies and a dutiful family. You will have artistic faculty, plenty of confiance-en-soi and an inclination to form rather than colour. One of your off-springs could be source of pride and joy to your family. You have a strong, forceful nature and personality capable of desiring command. You are frank, open-minded and generous in disposition. You have an adventurous spirit, inclined to exploits and hazardous feats. You will gain through inheritance and acquire properties in a rather late age.<br><b>Mental Qualities</b><br>You will be ambitious, generous, faithful, fearless and proud. You will be rich in life and feeling, and will be openly opposed to cliques, secrecy and underhand actions. You have the broadness of the mind and will be oblivious to enmity.<br><b>Physical Attributes</b><br>According to your Horoscope, you will have stout physique with broad shoulders. You will be sunny cheerful disposition, will have fearless eyes of grey tint, wavy hair with receding hairline. You will walk upright and talk straight. On the whole, you will have a right royal disposition.<br><b>General State of Health</b><br>Your zodiacal sign rules over the shoulders, arms, hands, bronchial tubes, fingers, nervous system, etc. Your potential problems could be asthma, chest disorders, colds, flu, spondylitis, etc. Your shoulders/arms/hands/fingers, trachea, bronchial tubes, upper ribs and thymus are the trouble-spots which may need medical attention during some time of your life. Stress (if in Administrative job) can lead to blood-pressure related problems. Profession demanding lot of travelling can induce problems due to exposure and irregular food-habits. All you need is adequate rest and peaceful sleep, regular homely meals with a relaxed mind. Yoga could work wonders for you. You should take a lot of carrots, cauliflower, garlic and pomegranates.Since the Ascendant has no affliction in your chart, you will be in good health. Since Mercury afflicts the Moon in your chart, you may have some memory-related problems and excess of worries. Since Venus afflicts the Moon in your chart, you may suffer from general weakness and tiredness. Since Mars afflicts the Moon in your chart, you may suffer from blood-loss, ruptures and inflammatory swellings. Since Rahu afflicts the Moon in your chart, you are prone to suffer from colds and constipation. Since Ketu afflicts the Moon in your chart, you may have ruptures and may suffer from inflammatory diseases. Since Saturn afflicts the Sun in your chart, you may suffer from colds, contractions and obstructions; constipation and general weakness are possible too.Since Uranus afflicts the Sun in your chart, you may suffer from heart-diseases.Since Mars and Saturn both afflict the sign Aquarius in your chart, you may have affections in the regions of buttocks or shank portions.Since Mars and Saturn both afflict the sign Virgo in your chart, your waist region is prone to affections.<br><b>Education and Profession</b><br>Favourable planetary combinations in your chart makes you blessed. You will have a sharp mind and keen intellect. You will have success in any educational field of your choice. You will have excellent education with some distinct specialization in a field. You will also have informal studies covering a very wide range of interesting subjects. People will treat you with respect for your wisdom and consider you to be a store-house of knowledge. You will do well in research-studies and may secure a doctorate degree. Your high education will lead you to success in the field of profession also. In your chart, Mercury gains good strength in Ashtaka-Varga. This will give you very good academic accomplishments with a good degree of proficiency in the various subjects of choice. The planetary combinations in your chart make you specially suited for the Technological fields. You will be very inquisitive not only about the principles but also with the working mechanisms involved. In addition to a basic degree in Science you may have a degree/ diploma in Technology. The planetary combinations in your chart bestow on you the qualities of a born businessman. You will be quick to learn the aspects of trade and commerce. You will make a fortune by trading and/ or manufacturing activities. As usual in business you may have to pass through some slack patcheswhen you will need to exercise control although during the most part you will do brisk business.<br><b>Wealth and Inheritance</b><br>As regards family-wealth, you will have a prosperous, peaceful and secure position in life. You are very likely to have a gift of prophecy and a taste for divinatory arts. You will have success in artistic pursuits, love-affairs will keep you ever-fermenting. You will enjoy high patronage among ladies of substance. As regards domestic environments, lack of order and differences of opinion among family-members will keep you worried. In your chart the lord of earnings placed in the favourable 10th house is a fortunate position and offer many desirable attributes. You will become very distinguished for your firm determination and strength of will. But you must understand your capacity-limitations and never have a bite bigger than you can chew; otherwise there will hang on the possibility of having a sharp downfall. You will occupy a high position and be a decision maker; you will have great progress in your life. In your chart the lord of inheritance being placed in the 10th house is not a fortunate position since it can create obstacles by making you a victim of slander or disrepute. The position favours you with a good placement in the Government service or you will receive benefits from Defence establishments as for your business you will have to remain in good terms with them. You will earn a fortune but you will have to pass through wide fluctuations.<br><b>Marriage and Married Life</b><br> Your chart indicates that you will have late marriage. In your chart your Ascendant-lord and the 7th-lord are in Opposition aspect which indicates that you two will differ from each other at times. By adopting a more compromising attitude you can ease the situations. You will however be very fond of each other for having a mutually loving and caring relationship.<br><b>Travel and Journeys</b><br> In your chart most of the planets are situated in 'fixed' signs which indicates that you will seldom require long-distance travelling. You will not require changing places in connection with your profession. In your chart most of the planets are in angular houses and moveable signs. You will have many journeys mainly in connection with profession. You will also have some pleasure-trips to places of interest.<br><b>Lucky Stone</b><br> Among auspicious gemstones RUBY (Manik or Chuni) will be favourable for you. You may take 3 to 5 Rattis of Ruby in a ring of Gold which should be worn on right hand ring finger on a Sunday. Cheaper substitute of Ruby is Surya-Kanta Mani or Lok Akeek which may be taken instead in a ring of Gold or Copper. While wearing the gemstone reciting the following 'Mantra' will be auspicious: Om Aasatyena Rajasaa Vartamano Niveshaayannamritam Mrityar cha Hiranyena Savita Rathenadevo Yati Bhuvana Vipashyat. The weights of gemstones recommended above are for adult male people. For adult females the weights should be reduced to 3/4 to 1/2 part while for the children the weights should be reduced to 1/2 to 1/3 part.<br>"
      ],
      "text/plain": [
       "<IPython.core.display.HTML object>"
      ]
     },
     "execution_count": 21,
     "metadata": {},
     "output_type": "execute_result"
    }
   ],
   "source": [
    "HTML(results['Janma rasi_2'])"
   ]
  },
  {
   "cell_type": "code",
   "execution_count": 22,
   "metadata": {},
   "outputs": [
    {
     "data": {
      "text/html": [
       "<html><b>Sun☉-House#2:</b><br>This is not quite a favourable situation. Losses will occur by offending the authorities. He will have a diseased face. He will obtain money by industrious effort. The nature of the income depends on the nature of the sign. He will be stubborn and peevish. Interviews with prominent men, promotions, access to comforts and rejoicings at home.<br><b>Moon☾-House#3:</b><br>Generally changes in occupation are indicated, fond of travelling and active minded. Wife will be fair. The subject possesses.good knowledge. Rather indifferent to spiritual values of life. Subordinate to wife. Attached to children. If however the Moon is waning, cruel, miserable, impious and unscrupulous. An unfavourable position for peace of mind, if afflicted.<br><b>Mars♂-House#12:</b><br>The person may lose his wife. He will be selfish, hateful and suffer diseases due to excess of heat in the body. He is liable to deception and may lose his money. If Mars and Saturn occupy the 12th and the 2nd houses respectively, the Moon be in Lagna and the Sun in the 7th house, he may suffer from leucoderma. If Mars in the 12th house is aspected by the Sun, danger from fire and wicked people is indicated. Malefics in the 7th and the 8th and Mars in the 12th denote that one will have another wife even when the first is alive. <br><b>Mercury☿-House#2:</b><br>Learned in religious and philosophical lore. Denotes gain by lecturing, business and commercial affairs. Becomes rich. Highly intelligent. He spends money on charities and moral purposes. Clever in earning money and careful and thrifty. Auspicious celebrations, redemption from debts and machinations of enemies, respect from others; weddings of brothers and purchase of jewels.<br><b>Jupiter♃-House#3:</b><br>This is also a good position. The mind is optimistic and philosophical. Will have many good brothers. Becomes a miser. Does not love family and children. The body gets heated and he suffers from illhealth. He may be devoid of gratitude if Jupiter is afflicted. He does not have many friends. Does not take advantage of opportunities. Adapts himself to conventionalities.<br><b>Venus♀-House#2:</b><br>Large family. Money usually comes readily by favours from others. Eats good food, possesses conveyances. Handsome appearance, skilful and pleasant, will marry a good wife or husband. Health and wealth are indicated in a large measure. All uncertainties will disappear. He takes interest in music and leads a happy life.<br><b>Saturn♄-House#8:</b><br>Saturn in the 8th house gives good longevity but many responsibilites in life. The native will discharge his duties through sheer perseverance against odds which will be many. He will have defective eyes. He will have very few children. He will have a paunch and be inclined to seek the company of women outside his caste. He may be predisposed to suffer from asthma, consumption and lung disorders. If afflicted by malefic planets, his children will cause him pain and grief. The native will be dishonest and cruel. When Saturn is in the 8th with Mars, Rahu is in Lagna and Gulika occupies a trine, the native suffers disease in his generative organs. If the Moon joins Saturn in the 8th, the result is flatulence and spleen troubles. <br><b>Raagu☊-House#7:</b><br>The native brings ill-repute to family, if a female. He will be unconventional and heterodox. He will have affairs with outcaste women or foreigners. His wife suffers from womb disorders. He eats good and rich food, has luxurious habits and suffers from diabetes, ghosts and the supernatural. <br><b>Kethu☋-House#1:</b><br>Psychic powers are likely. It denotes a weak constitution and an emaciated figure. Instability and deceitfulness may influence the character. Morbid imagination, strange appetites, tendency to excitability and wandering disposition become pronouncedly marked. Married life will be unhappy unless there are other favourable configurations. Every planet is the centre of some radiating force or energy. These planetary radiations are absorbed by all the beings in the universe in proportion to their capacity. The planetary forces pass through them along the line of least resistance. He will suffer from fevers and some complaints which cannot be cured by medicine. The body becomes weak and emaciated. There will be boils due to excessive heat. Reputation may also suffer. Mind will be uneasy.<br>"
      ],
      "text/plain": [
       "<IPython.core.display.HTML object>"
      ]
     },
     "execution_count": 22,
     "metadata": {},
     "output_type": "execute_result"
    }
   ],
   "source": [
    "HTML(results['Planets'])"
   ]
  },
  {
   "cell_type": "code",
   "execution_count": 23,
   "metadata": {},
   "outputs": [
    {
     "data": {
      "text/html": [
       "<html><b>Sun☉-House#2:</b><br>This is not quite a favourable situation. Losses will occur by offending the authorities. He will have a diseased face. He will obtain money by industrious effort. The nature of the income depends on the nature of the sign. He will be stubborn and peevish. Interviews with prominent men, promotions, access to comforts and rejoicings at home.<br><b>Moon☾-House#3:</b><br>Generally changes in occupation are indicated, fond of travelling and active minded. Wife will be fair. The subject possesses.good knowledge. Rather indifferent to spiritual values of life. Subordinate to wife. Attached to children. If however the Moon is waning, cruel, miserable, impious and unscrupulous. An unfavourable position for peace of mind, if afflicted.<br><b>Mars♂-House#12:</b><br>The person may lose his wife. He will be selfish, hateful and suffer diseases due to excess of heat in the body. He is liable to deception and may lose his money. If Mars and Saturn occupy the 12th and the 2nd houses respectively, the Moon be in Lagna and the Sun in the 7th house, he may suffer from leucoderma. If Mars in the 12th house is aspected by the Sun, danger from fire and wicked people is indicated. Malefics in the 7th and the 8th and Mars in the 12th denote that one will have another wife even when the first is alive. <br><b>Mercury☿-House#2:</b><br>Learned in religious and philosophical lore. Denotes gain by lecturing, business and commercial affairs. Becomes rich. Highly intelligent. He spends money on charities and moral purposes. Clever in earning money and careful and thrifty. Auspicious celebrations, redemption from debts and machinations of enemies, respect from others; weddings of brothers and purchase of jewels.<br><b>Jupiter♃-House#3:</b><br>This is also a good position. The mind is optimistic and philosophical. Will have many good brothers. Becomes a miser. Does not love family and children. The body gets heated and he suffers from illhealth. He may be devoid of gratitude if Jupiter is afflicted. He does not have many friends. Does not take advantage of opportunities. Adapts himself to conventionalities.<br><b>Venus♀-House#2:</b><br>Large family. Money usually comes readily by favours from others. Eats good food, possesses conveyances. Handsome appearance, skilful and pleasant, will marry a good wife or husband. Health and wealth are indicated in a large measure. All uncertainties will disappear. He takes interest in music and leads a happy life.<br><b>Saturn♄-House#8:</b><br>Saturn in the 8th house gives good longevity but many responsibilites in life. The native will discharge his duties through sheer perseverance against odds which will be many. He will have defective eyes. He will have very few children. He will have a paunch and be inclined to seek the company of women outside his caste. He may be predisposed to suffer from asthma, consumption and lung disorders. If afflicted by malefic planets, his children will cause him pain and grief. The native will be dishonest and cruel. When Saturn is in the 8th with Mars, Rahu is in Lagna and Gulika occupies a trine, the native suffers disease in his generative organs. If the Moon joins Saturn in the 8th, the result is flatulence and spleen troubles. <br><b>Raagu☊-House#7:</b><br>The native brings ill-repute to family, if a female. He will be unconventional and heterodox. He will have affairs with outcaste women or foreigners. His wife suffers from womb disorders. He eats good and rich food, has luxurious habits and suffers from diabetes, ghosts and the supernatural. <br><b>Kethu☋-House#1:</b><br>Psychic powers are likely. It denotes a weak constitution and an emaciated figure. Instability and deceitfulness may influence the character. Morbid imagination, strange appetites, tendency to excitability and wandering disposition become pronouncedly marked. Married life will be unhappy unless there are other favourable configurations. Every planet is the centre of some radiating force or energy. These planetary radiations are absorbed by all the beings in the universe in proportion to their capacity. The planetary forces pass through them along the line of least resistance. He will suffer from fevers and some complaints which cannot be cured by medicine. The body becomes weak and emaciated. There will be boils due to excessive heat. Reputation may also suffer. Mind will be uneasy.<br>"
      ],
      "text/plain": [
       "<IPython.core.display.HTML object>"
      ]
     },
     "execution_count": 23,
     "metadata": {},
     "output_type": "execute_result"
    }
   ],
   "source": [
    "HTML(results['Planets'])"
   ]
  }
 ],
 "metadata": {
  "kernelspec": {
   "display_name": "venv",
   "language": "python",
   "name": "python3"
  },
  "language_info": {
   "codemirror_mode": {
    "name": "ipython",
    "version": 3
   },
   "file_extension": ".py",
   "mimetype": "text/x-python",
   "name": "python",
   "nbconvert_exporter": "python",
   "pygments_lexer": "ipython3",
   "version": "3.10.16"
  }
 },
 "nbformat": 4,
 "nbformat_minor": 2
}
